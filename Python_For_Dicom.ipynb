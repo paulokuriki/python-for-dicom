{
  "nbformat": 4,
  "nbformat_minor": 0,
  "metadata": {
    "colab": {
      "private_outputs": true,
      "provenance": [],
      "authorship_tag": "ABX9TyPI9+gm/wO9y7GMLIAVmyOV",
      "include_colab_link": true
    },
    "kernelspec": {
      "name": "python3",
      "display_name": "Python 3"
    },
    "language_info": {
      "name": "python"
    }
  },
  "cells": [
    {
      "cell_type": "markdown",
      "metadata": {
        "id": "view-in-github",
        "colab_type": "text"
      },
      "source": [
        "<a href=\"https://colab.research.google.com/github/paulokuriki/python-for-dicom/blob/main/Python_For_Dicom.ipynb\" target=\"_parent\"><img src=\"https://colab.research.google.com/assets/colab-badge.svg\" alt=\"Open In Colab\"/></a>"
      ]
    },
    {
      "cell_type": "markdown",
      "source": [
        "# Python for DICOM\n",
        "\n",
        "## From Zero to Hero\n",
        "\n",
        "\n",
        "![logo hero 400.jpg](https://raw.githubusercontent.com/paulokuriki/python-for-dicom/main/logo%20hero%20400.jpg)\n"
      ],
      "metadata": {
        "id": "00FE3_kaBEgY"
      }
    },
    {
      "cell_type": "markdown",
      "source": [
        "---"
      ],
      "metadata": {
        "id": "-pOfmxwAIXI-"
      }
    },
    {
      "cell_type": "markdown",
      "source": [
        "# **Why Learn Python?**\n",
        "\n",
        "1.   It is a simple-to-learn Program Language\n",
        "\n",
        "2.   One of the main languages used in AI Projects\n",
        "\n",
        "3.   Many libraries ready to use in radiology\n",
        "\n",
        "4.   Open Source\n",
        "\n",
        "5.   Portability: Can run on Windows, Mac, or Linux enviroments\n",
        "\n",
        "6.   **Allows you to create your own DICOM VIEWER (bonus)**"
      ],
      "metadata": {
        "id": "R4LN1OAuIAaY"
      }
    },
    {
      "cell_type": "markdown",
      "source": [
        "---"
      ],
      "metadata": {
        "id": "0yPQsaHeIYKt"
      }
    },
    {
      "cell_type": "markdown",
      "source": [
        "# **How to start?**\n",
        "\n",
        "*   Program directly on the web at **Google Colab** - [colab.research.google.com](https://colab.research.google.com/)\n",
        "*   Run in a **Jupyter Notebook** - [anaconda.com](https://www.anaconda.com/products/individual)\n",
        "*   Run **Python** in your local machine - [python.org](https://www.python.org/downloads/)\n"
      ],
      "metadata": {
        "id": "K8RbU8rPISpc"
      }
    },
    {
      "cell_type": "markdown",
      "source": [
        "---"
      ],
      "metadata": {
        "id": "JfVl0jROIqOp"
      }
    },
    {
      "cell_type": "markdown",
      "source": [
        "# **Let's code!**\n",
        "\n",
        "### The **`print()`** function displays information on the screen:\n",
        "\n",
        "Example: **`print(100)`**"
      ],
      "metadata": {
        "id": "c5n-yGSjIsCK"
      }
    },
    {
      "cell_type": "code",
      "execution_count": null,
      "metadata": {
        "id": "izJo1vTwAktL"
      },
      "outputs": [],
      "source": [
        "# calling the print() function passing the number 100 as a parameter\n",
        "print(2024)"
      ]
    },
    {
      "cell_type": "code",
      "source": [
        "# passing a mathematical operation to the print() function\n",
        "print(100 / 200)"
      ],
      "metadata": {
        "id": "D3ucN8k6I26U"
      },
      "execution_count": null,
      "outputs": []
    },
    {
      "cell_type": "markdown",
      "source": [
        "---"
      ],
      "metadata": {
        "id": "P8rw28BMJAwX"
      }
    },
    {
      "cell_type": "markdown",
      "source": [
        "# **Variables and Data Types**\n",
        "\n",
        "### A **Variable** is a space in the computer's memory, which has a name and storages a value.\n",
        "\n",
        "Example:\n",
        "\n",
        "`year = 2021`\n",
        "\n",
        "`height = 176`\n",
        "\n",
        "### In **Python** `year` e `Year` are considered different variables. This is why it's advisable to always name variables in  *lowercase*.\n",
        "\n",
        "Values stored in variables have types. Some examples:\n",
        "\n",
        "- Text: string\n",
        "- Number: integer, float, complex\n",
        "- Sequences: list, tuple\n",
        "- Mapping: dict"
      ],
      "metadata": {
        "id": "tZat_CqHI_FI"
      }
    },
    {
      "cell_type": "code",
      "source": [
        "# assigning numeric values ​​to variables\n",
        "year = 2020\n",
        "year_birth = 1990\n",
        "age = year - year_birth\n",
        "\n",
        "# displays calculated age\n",
        "print(age)"
      ],
      "metadata": {
        "id": "pan8D3IBI7ls"
      },
      "execution_count": null,
      "outputs": []
    },
    {
      "cell_type": "code",
      "source": [
        "# assigning texts to variables\n",
        "name = \"Paulo\"\n",
        "surname = 'Kuriki'\n",
        "full_name = name + surname\n",
        "\n",
        "print(full_name)\n",
        "# If the full name appears without spaces, how would you solve this problem?"
      ],
      "metadata": {
        "id": "QJy55BqHJG58"
      },
      "execution_count": null,
      "outputs": []
    },
    {
      "cell_type": "markdown",
      "source": [
        "---"
      ],
      "metadata": {
        "id": "Ai5j737jJp5m"
      }
    },
    {
      "cell_type": "markdown",
      "source": [
        "# **Conditional clauses**\n",
        "\n",
        "Using the `if` statement allows for the definition of conditions.\n",
        "\n",
        "Example:\n",
        "\n",
        "`if condition:`\n",
        "\n",
        "> `performs positive tasks`\n",
        "\n",
        "> `performs positive tasks`\n",
        "\n",
        "> `performs positive tasks`\n",
        "\n",
        "`else:`\n",
        "\n",
        "> `performs negative tasks`\n",
        "\n",
        "> `performs negative tasks`\n",
        "\n",
        "> `performs negative tasks`\n",
        "\n",
        "**Python** groups each conditional blocks by indentation."
      ],
      "metadata": {
        "id": "x7isgVgRJjH3"
      }
    },
    {
      "cell_type": "code",
      "source": [
        "year = 2020\n",
        "birth_year = 2000\n",
        "age = year - birth_year\n",
        "\n",
        "# assesses if you are of legal age\n",
        "if age >= 21:\n",
        "    print(age, \"You are of legal age. You can buy beer.\")\n",
        "else:\n",
        "    print(age, \"You're underage. Go drink some milk.\")\n",
        "\n",
        "# try to change birth date and run again"
      ],
      "metadata": {
        "id": "lQGollALJnQY"
      },
      "execution_count": null,
      "outputs": []
    },
    {
      "cell_type": "markdown",
      "source": [
        "---"
      ],
      "metadata": {
        "id": "gojZ8UD-JnAo"
      }
    },
    {
      "cell_type": "markdown",
      "source": [
        "# **Sequences**\n",
        "\n",
        "Sequences are sets of data that can be grouped.\n",
        "\n",
        "There are several types of sequences, such as:\n",
        "* `lists`\n",
        "* `tuples`\n",
        "* `sets`\n",
        "* `dictionaries`"
      ],
      "metadata": {
        "id": "TRNk1CTbJU_Y"
      }
    },
    {
      "cell_type": "markdown",
      "source": [
        "----"
      ],
      "metadata": {
        "id": "9mpOu80OJthf"
      }
    },
    {
      "cell_type": "markdown",
      "source": [
        "# **Loops**\n",
        "\n",
        "\"Loops are mechanisms used to repeat actions. In Python, the main types are `for` and `while` loops.\n",
        "\n",
        "`for`: Used to iterate through a sequence, such as a `list`.\n",
        "\n",
        "`while`: Loops while a condition is met."
      ],
      "metadata": {
        "id": "iAJLf34NJZcU"
      }
    },
    {
      "cell_type": "code",
      "source": [
        "# ---- Using FOR to iterate through a list ----\n",
        "\n",
        "# creates a list of exam types\n",
        "exams = [\"Brain MRI\", \"C-Spine MRI\", \"T-Spine MRI\", \"L-Spine MRI\"]\n",
        "\n",
        "# FOR loop performing an iteration over the exam list\n",
        "for exam in exams:\n",
        "    print(\"I read:\", exam)"
      ],
      "metadata": {
        "id": "kwE-2g5mJJkC"
      },
      "execution_count": null,
      "outputs": []
    },
    {
      "cell_type": "markdown",
      "source": [
        "# Preparing the environment"
      ],
      "metadata": {
        "id": "jnVPLI3nJzbo"
      }
    },
    {
      "cell_type": "code",
      "source": [
        "#@title Prepare the test environment { vertical-output: true, display-mode: \"form\" }\n",
        "!sudo apt install tesseract-ocr\n",
        "!pip install pydicom\n",
        "!pip install ipywidgets\n",
        "!pip install pytesseract\n",
        "\n",
        "import platform\n",
        "\n",
        "if platform.system() == 'Windows':\n",
        "    !del *.dcm\n",
        "    !del *.jpg\n",
        "    !del *.png\n",
        "\n",
        "    # it can be necessary to download  wget.exe for windows from the site: https://eternallybored.org/misc/wget/1.20.3/64/wget.exe\n",
        "    !wget https://github.com/paulokuriki/python_for_rads/raw/master/torax.zip\n",
        "    !tar -xf torax.zip\n",
        "    !wget https://raw.githubusercontent.com/paulokuriki/dicom_anonymizer/main/us_abdome.png\n",
        "else:\n",
        "    !rm *.dcm\n",
        "    !rm *.jpg\n",
        "    !rm *.png\n",
        "\n",
        "    !wget https://github.com/paulokuriki/python_for_rads/raw/master/torax.zip\n",
        "    !wget https://raw.githubusercontent.com/paulokuriki/dicom_anonymizer/main/us_abdome.png\n",
        "    !unzip torax.zip\n",
        "print('\\n\\n----- TEST ENVIROMENT PREPARED. -----')"
      ],
      "metadata": {
        "id": "CJzXTQovJcC9"
      },
      "execution_count": null,
      "outputs": []
    },
    {
      "cell_type": "markdown",
      "source": [
        "---"
      ],
      "metadata": {
        "id": "UcjJMO0jJ-Mf"
      }
    },
    {
      "cell_type": "markdown",
      "source": [
        "# **The So-Called Python Libraries**\n",
        "\n",
        "A Python library is a collection of functions and methods that allows you to perform many actions without writing your code from scratch. They are one of the reasons why Python is so popular, offering a vast ecosystem that can be leveraged for a wide array of applications, from web development to data analysis, and machine learning.\n",
        "\n",
        "## Why They Are Awesome\n",
        "- Saves Time and Effort: Libraries contain pre-written code that solves common problems\n",
        "- Increases Productivity: complex tasks can be accomplished in few lines of code\n",
        "- Improves Code Quality: Libraries are usually developed by a community of experts and undergo rigorous testing\n",
        "- Versatility: There's a library for almost everything – dealing with medical images (PyDicom), web scraping (Beautiful Soup) to machine learning (TensorFlow, scikit-learn), making Python extremely versatile.\n",
        "\n",
        "## What Kind of Things We Can Do\n",
        "- Web Development: Streamlit, Django and Flask\n",
        "- Data Analysis and Visualization: Pandas for data manipulation, NumPy for numerical data processing, and Matplotlib for data visualization.\n",
        "- Machine Learning and AI: TensorFlow, PyTorch, and scikit-learn\n",
        "- Game Development: Pygame\n",
        "- Automation and Scripting:  Selenium for web browserand PyAutoGUI for controlling the keyboard and mouse\n"
      ],
      "metadata": {
        "id": "YYigZFx9J_Yy"
      }
    },
    {
      "cell_type": "markdown",
      "source": [
        "---"
      ],
      "metadata": {
        "id": "4TfzNyFSMTZI"
      }
    },
    {
      "cell_type": "markdown",
      "source": [
        "# **DICOM files in Python**\n",
        "\n",
        "Python has two excelente libraries for handling DICOM files and transmissions\n",
        "\n",
        "`pydicom`: Used to open DICOM files, read metadata and images, and save exams.\n",
        "\n",
        "`pynetdicom`: Used to query PACS and transmit DICOM files"
      ],
      "metadata": {
        "id": "K-cnS4JnKFm1"
      }
    },
    {
      "cell_type": "markdown",
      "source": [
        "---"
      ],
      "metadata": {
        "id": "jxxQvliaMyN_"
      }
    },
    {
      "cell_type": "markdown",
      "source": [
        "# **Displaying DICOM images**\n",
        "\n",
        "1. Import the `pydicom` and `matplotlib` libraries.\n",
        "2. Open the DICOM file using the `pydicom.dcmread(filename)` function.\n",
        "3. The image array can be accessed by the `pixel_array` property.\n",
        "4. Load the DICOM `pixel_array` into the `pyplot` module of the `matplotlib` library.\n",
        "5. Display the image using the `show()` function."
      ],
      "metadata": {
        "id": "LfffKK5qKSO4"
      }
    },
    {
      "cell_type": "code",
      "source": [
        "import pydicom\n",
        "import matplotlib.pyplot as plt\n",
        "\n",
        "# set a variable with full path to DICOM file\n",
        "dicom_file = \"00000070.dcm\"\n",
        "\n",
        "# read the DICOM file using the dcmread function from pydicom\n",
        "dataset = pydicom.dcmread(dicom_file)\n",
        "\n",
        "# display the pixel_array\n",
        "plt.imshow(dataset.pixel_array, cmap=plt.cm.gray)\n",
        "plt.show()"
      ],
      "metadata": {
        "id": "Nb41JPfpJ3Ib"
      },
      "execution_count": null,
      "outputs": []
    },
    {
      "cell_type": "markdown",
      "source": [
        "---"
      ],
      "metadata": {
        "id": "jt62xFynQ5a5"
      }
    },
    {
      "cell_type": "markdown",
      "source": [
        "# DICOM - Digital Imaging and Communication in Medicine\n",
        "\n",
        "It is an international standard used to store, transmit, view, and print medical image information.\n",
        "\n",
        "\n",
        "Created by ACR and NEMA, with its first version released in 1983. Currently, we are on the third version of DICOM.\n",
        "\n",
        "\n",
        "Refers to both a **file format (.dcm)** and a **communication protocol**.\n",
        "DICOM enabled interoperability of medical image information."
      ],
      "metadata": {
        "id": "UNj4pozgQBZj"
      }
    },
    {
      "cell_type": "markdown",
      "source": [
        "---"
      ],
      "metadata": {
        "id": "O3dd9A-ORHkk"
      }
    },
    {
      "cell_type": "markdown",
      "source": [
        "# DICOM File Structure\n",
        "\n",
        "Think of a DICOM file as a computer folder, which can contain one or more images, various data, and even other folders.\n",
        "\n",
        "\n",
        "## Terminology\n",
        "\n",
        "### DICOM File = DataSet\n",
        "- DataSet is a collection of several Data Elements (DICOM Tags)\n",
        "\n"
      ],
      "metadata": {
        "id": "QYHrq-EYREI4"
      }
    },
    {
      "cell_type": "code",
      "source": [
        "# set a variable with full path to DICOM file\n",
        "var_dicom_file = \"00000070.dcm\"\n",
        "\n",
        "# read the DICOM file using the dcmread function\n",
        "dataset = pydicom.dcmread(var_dicom_file)\n",
        "\n",
        "print(dataset)"
      ],
      "metadata": {
        "id": "oL4vLNkLVewU"
      },
      "execution_count": null,
      "outputs": []
    },
    {
      "cell_type": "markdown",
      "source": [
        "![Dicom Tags](https://raw.githubusercontent.com/paulokuriki/python-for-dicom/main/dicom_tags.png)"
      ],
      "metadata": {
        "id": "MzpFETg1ZvMo"
      }
    },
    {
      "cell_type": "markdown",
      "source": [
        "## Components of a Data Element (DICOM Tag):\n",
        "\n",
        "- **Tag ID:** A unique identifier represented by 8 characters. This is essentially the 'address' or identifier for each element within a DICOM file, allowing for precise access to data.\n",
        "\n",
        "- **VR (Value Representation):** Specifies the data type and format of the Data Element's value. Examples include integer, float, string, date, and time formats, among others. This helps ensure that the data can be correctly interpreted and processed.\n",
        "\n",
        "- **VM (Value Multiplicity):** Indicates the number of values a Data Element can have. It allows a single Data Element to contain multiple values of the type specified by its VR, accommodating complex data structures.\n",
        "\n",
        "- **Length:** The size of the Data Element's value, measured in bytes. This specifies how much storage space the value occupies, which is important for data processing and storage considerations.\n",
        "\n",
        "- **Description:** Provides a textual description of the Data Element's purpose or content. This is helpful for understanding the role and significance of the data in the context of the DICOM file.\n",
        "\n",
        "- **Value**: The actual data or content of the Data Element. This is the specific information stored in the Data Element, such as a patient's name, the date of a study, image pixel data, and so on, depending on the Tag.\n",
        "\n",
        "\n"
      ],
      "metadata": {
        "id": "Ou8f199lToLi"
      }
    },
    {
      "cell_type": "markdown",
      "source": [
        "### Value Representation | Description\n",
        "\n",
        "- AE | Application Entity\n",
        "- AS | Age String\n",
        "- AT | Attribute Tag\n",
        "- CS | Code String\n",
        "- DA | Date\n",
        "- DS | Decimal String\n",
        "- DT | Date/Time\n",
        "- FL | Floating Point Single (4 bytes)\n",
        "- FD | Floating Point Double (8 bytes)\n",
        "- IS | Integer String\n",
        "- LO | Long String\n",
        "- LT | Long Text\n",
        "- OB | Other Byte\n",
        "- OF | Other Float\n",
        "- OW | Other Word\n",
        "- PN | Person Name\n",
        "- SH | Short String\n",
        "- SL | Signed Long\n",
        "- SQ | Sequence of Items\n",
        "- SS | Signed Short\n",
        "- ST | Short Text\n",
        "- TM | Time\n",
        "- UI | Unique Identifier\n",
        "- UL | Unsigned Long\n",
        "- UN | Unknown\n",
        "- US | Unsigned Short\n",
        "- UT | Unlimited Text"
      ],
      "metadata": {
        "id": "zIxS_1JaTzCu"
      }
    },
    {
      "cell_type": "code",
      "source": [
        "print(dataset)"
      ],
      "metadata": {
        "id": "-e7cLC8DaHs1"
      },
      "execution_count": null,
      "outputs": []
    },
    {
      "cell_type": "markdown",
      "source": [
        "## **The Pixel Data**\n",
        "\n",
        "Pixel Data is a special Data Element containing the image data."
      ],
      "metadata": {
        "id": "5bBKtIYPVOvd"
      }
    },
    {
      "cell_type": "code",
      "source": [
        "# Load the pixel_data\n",
        "pixel_data = dataset.pixel_array\n",
        "\n",
        "# Display the number of rows and cols\n",
        "pixel_data"
      ],
      "metadata": {
        "id": "ajDvT4wmVN67"
      },
      "execution_count": null,
      "outputs": []
    },
    {
      "cell_type": "code",
      "source": [
        "# Display the Pixel Array\n",
        "_=plt.imshow(dataset.pixel_array)"
      ],
      "metadata": {
        "id": "4mmU_VRLKXkT"
      },
      "execution_count": null,
      "outputs": []
    },
    {
      "cell_type": "markdown",
      "source": [
        "[Matplotlib Color Maps](https://matplotlib.org/stable/users/explain/colors/colormaps.html)"
      ],
      "metadata": {
        "id": "MPqH5aHvbKnM"
      }
    },
    {
      "cell_type": "code",
      "source": [
        "# Selecting a Grayscale color map\n",
        "_=plt.imshow(dataset.pixel_array, cmap=plt.cm.gray)"
      ],
      "metadata": {
        "id": "mPYQ9wO3YxF0"
      },
      "execution_count": null,
      "outputs": []
    },
    {
      "cell_type": "markdown",
      "source": [
        "---"
      ],
      "metadata": {
        "id": "XBcLQJPlcuEu"
      }
    },
    {
      "cell_type": "markdown",
      "source": [
        "# The trade-off of anonymization\n",
        "\n",
        "## Balancing privacy protection with the utility of the data.\n",
        "\n",
        " When handling sensitive information, especially in healthcare or research contexts, it's essential to protect individuals' identities. However, the more you anonymize data, the more you may reduce its usefulness for analysis, research, and practical applications.\n",
        "\n",
        " ![Trade off](https://raw.githubusercontent.com/paulokuriki/python-for-dicom/main/trade_off_anonymization.png?token=GHSAT0AAAAAACO2ZBLMQD5TGM3XEKAJT35KZPRAVOA)\n",
        "\n",
        " Kudos to my great friend Marcelo Straus (UNC) for winning a Magna Cum Laude award by presenting this work at RSNA."
      ],
      "metadata": {
        "id": "0guaRN8XcfKD"
      }
    },
    {
      "cell_type": "markdown",
      "source": [
        "# Pseudonymized Data\n",
        "\n",
        "A pseudonym is used to replace a patient identifier.\n",
        "\n",
        "Data can still be indirectly identified.\n",
        "\n",
        "**Example:**\n",
        "\n",
        "`[James Smith], [male], [birthdate 05/10/1975], [weight = 52 kg]`\n",
        "\n",
        "`[Patient 1], [male], [birthdate 05/10/1975], [weight = 52 kg]`\n",
        "\n",
        "---\n",
        "\n",
        "# De-identified Data\n",
        "All information that could indirectly identify the patient is removed/altered.\n",
        "\n",
        "It can be reversed. Often used in radiology.\n",
        "\n",
        "**Example:**\n",
        "\n",
        "`[James Smith], [male], [birthdate 05/10/1975], [weight = 52 kg]`\n",
        "\n",
        "`[Patient 1], [between 40 and 60 years old], [weight between 50-75 kg]`\n",
        "\n",
        "---\n",
        "# Anonymized Data\n",
        "Irreversible data de-characterization.\n",
        "\n",
        "Very difficult to achieve and significantly limits the data's utility.\n",
        "\n",
        "**Example:**\n",
        "\n",
        "`[James Smith], [male], [birthdate 05/10/1975], [weight = 52 kg]`\n",
        "\n",
        "`[Male]`"
      ],
      "metadata": {
        "id": "d0zK1iyZg2iD"
      }
    },
    {
      "cell_type": "code",
      "source": [
        "dataset"
      ],
      "metadata": {
        "id": "1gi-ZFgYfibM"
      },
      "execution_count": null,
      "outputs": []
    },
    {
      "cell_type": "markdown",
      "source": [
        "---"
      ],
      "metadata": {
        "id": "tpSyhoBuPFlo"
      }
    },
    {
      "cell_type": "markdown",
      "source": [
        "# Example: Let's anonymize these DICOM Tags:\n",
        "\n",
        "(0010, 0010) Patient's Name                      PN: 'SITE1-000015'\n",
        "\n",
        "(0010, 0020) Patient ID                          LO: 'SITE1-000015'\n",
        "\n",
        "(0010, 0030) Patient's Birth Date                DA: '19531017'\n",
        "\n",
        "(0010, 0040) Patient's Sex                       CS: 'F'\n",
        "\n",
        "(0010, 1010) Patient's Age                       AS: '061Y'"
      ],
      "metadata": {
        "id": "Y7sbgC3Li0h8"
      }
    },
    {
      "cell_type": "code",
      "source": [
        "# Display the DICOM Tags values\n",
        "print(dataset.PatientName)\n",
        "print(dataset.PatientID)\n"
      ],
      "metadata": {
        "id": "Jk-BUhwmfkYk"
      },
      "execution_count": null,
      "outputs": []
    },
    {
      "cell_type": "code",
      "source": [
        "# Changing the original values\n",
        "dataset.PatientName = 'Ray Diograph'\n",
        "dataset.PatientID = 'PAT0001'"
      ],
      "metadata": {
        "id": "GX3ZW2nSi5Xa"
      },
      "execution_count": null,
      "outputs": []
    },
    {
      "cell_type": "code",
      "source": [
        "# Checking how the Dataset is now\n",
        "dataset"
      ],
      "metadata": {
        "id": "Jw8-Ajdtjeua"
      },
      "execution_count": null,
      "outputs": []
    },
    {
      "cell_type": "code",
      "source": [
        "# Save as a New Dicom File\n",
        "dataset.save_as('anon_file.dcm')"
      ],
      "metadata": {
        "id": "a5ZDHBOWjfsC"
      },
      "execution_count": null,
      "outputs": []
    },
    {
      "cell_type": "markdown",
      "source": [
        "# DICOM De-identification\n",
        "### The elements of a DICOM file can be classified into three types:\n",
        "\n",
        "**Type 1:** MANDATORY and MUST HAVE A VALUE\n",
        "- Image columns and rows, image orientation...\n",
        "\n",
        "**Type 2:** MANDATORY but CAN BE EMPTY\n",
        "- Patient ID, date of birth, sex...\n",
        "\n",
        "**Type 3:** OPTIONAL\n",
        "- Ordering physician, ethnic group, name of the institution...\n",
        "\n",
        "---\n",
        "\n",
        "# DICOM De-identification\n",
        "\n",
        "## Tips\n",
        "- When DELETING a Data Element, ensure it is not Type 1 or 2\n",
        "\n",
        "- When ERASING THE VALUE of a Data Element, ensure it is not Type 1\n",
        "\n",
        "- When REPLACING THE VALUE of a Data Element, ensure that the value complies with the DICOM format. E.g., UIDs (StudyInstanceUID, SeriesInstanceUID, SOPInstanceUID) should be no longer than 64 characters.\n",
        "\n",
        "These pieces of information can be accessed in the DICOM documentation http://dicom.nema.org/\n",
        "\n",
        "---\n",
        "\n",
        "# Tips for DICOM De-identification\n",
        "\n",
        "## What are Private DICOM Tags:\n",
        "\n",
        "These are Tags that are not part of the standard DICOM documentation.\n",
        "\n",
        "These Tags are generated in specific situations such as during image acquisition or during processing and may contain sensitive patient information.\n",
        "\n",
        "**Tip 1:** The group number is always odd\n",
        "\n",
        "**Tip 2:** It is recommended to remove ALL Private Tags during de-identification. Use PyDicom Remove Private Tags Function\n",
        "\n",
        "`dataset.remove_private_tags()`\n",
        "\n",
        "Note: In rare situations, this removal can corrupt the DICOM file (tomosynthesis)."
      ],
      "metadata": {
        "id": "Al91J5uwj3bX"
      }
    },
    {
      "cell_type": "markdown",
      "source": [
        "# Tips for DICOM De-identification\n",
        "\n",
        "### Modalities US, SC, and SR\n",
        "\n",
        "In ultrasound (US), secondary capture (SC), and structured report (SR), sensitive data may be recorded in the Pixel Data.\n",
        "\n",
        "<img src=\"https://raw.githubusercontent.com/paulokuriki/dicom_anonymizer/main/us_abdome.png\">"
      ],
      "metadata": {
        "id": "dWX8ElN7mnzF"
      }
    },
    {
      "cell_type": "code",
      "source": [
        "# Open the image and display\n",
        "from PIL import Image\n",
        "\n",
        "usg_file = 'us_abdome.png'\n",
        "img = Image.open(usg_file)\n",
        "\n",
        "display(img)"
      ],
      "metadata": {
        "id": "Wm9_BKL3j6ub"
      },
      "execution_count": null,
      "outputs": []
    },
    {
      "cell_type": "code",
      "source": [
        "# Using PyTesseract to extract text from a burned-in image\n",
        "import pytesseract\n",
        "\n",
        "def clean_text(text):\n",
        "    def replace_text(text, search, replace):\n",
        "        while search in text:\n",
        "            text = text.replace(search, replace)\n",
        "        return text\n",
        "\n",
        "    text = replace_text(text, '  ', ' ')\n",
        "    text = replace_text(text, '\\n\\n', '\\n')\n",
        "    text = replace_text(text, '\\n ', '\\n')\n",
        "    text = replace_text(text, '\\n\\n', '\\n')\n",
        "    text = text.strip('\\n')\n",
        "    text = text.strip()\n",
        "    return text\n",
        "\n",
        "text = pytesseract.image_to_string(img)      # usa a biblioteca pytesseract para ler os textos da imagem\n",
        "text = clean_text(text)\n",
        "print(text)"
      ],
      "metadata": {
        "id": "3Xg6n0_ynlgi"
      },
      "execution_count": null,
      "outputs": []
    },
    {
      "cell_type": "markdown",
      "source": [
        "# Medical Physics - QA Project"
      ],
      "metadata": {
        "id": "c8mOtkNhuucD"
      }
    },
    {
      "cell_type": "markdown",
      "source": [
        "# Anonymization Tips\n",
        "\n",
        "When using images in presentations or documents, such as in PowerPoint or PDF, make sure the image does not contain sensitive data.\n",
        "\n",
        "Overlapping bars and cropping the image do not erase sensitive information stored in the pixels.\n",
        "\n",
        "\n",
        "\n",
        "<img src=\"https://raw.githubusercontent.com/paulokuriki/dicom_anonymizer/main/search_engines.png\">\n",
        "\n",
        "<img src=\"https://raw.githubusercontent.com/paulokuriki/dicom_anonymizer/main/keeping_phi.png\">\n",
        "\n",
        "https://healthitsecurity.com/news/search-engines-may-expose-patient-health-information-acr-warns\n",
        "\n",
        "https://www.acr.org/Practice-Management-Quality-Informatics/Informatics/PHI"
      ],
      "metadata": {
        "id": "KVSLuQ9qpH2B"
      }
    },
    {
      "cell_type": "markdown",
      "source": [
        "---"
      ],
      "metadata": {
        "id": "ZobBditAu3mF"
      }
    },
    {
      "cell_type": "markdown",
      "source": [
        "<img src=\"https://raw.githubusercontent.com/paulokuriki/dicom_anonymizer/main/face_1.png\">\n",
        "\n",
        "<img src=\"https://raw.githubusercontent.com/paulokuriki/dicom_anonymizer/main/face_2.png\">\n",
        "\n",
        " [Schwarz, Christopher G., et al. \"Identification of anonymous MRI research participants with face-recognition software.\" New England Journal of Medicine 381.17 (2019): 1684-1686.](https://pubmed.ncbi.nlm.nih.gov/31644852/)\n"
      ],
      "metadata": {
        "id": "P4G5GkTcpbbt"
      }
    },
    {
      "cell_type": "markdown",
      "source": [
        "---"
      ],
      "metadata": {
        "id": "yxuyDGi7qX1E"
      }
    },
    {
      "cell_type": "markdown",
      "source": [
        "# I'm tired of talking about Anonymization. Let's return to our DICOM Images\n",
        "\n",
        "Time to understand how windowing happens in DICOM"
      ],
      "metadata": {
        "id": "_ETHCWO3QJgY"
      }
    },
    {
      "cell_type": "code",
      "source": [
        "plt.imshow(dataset.pixel_array, cmap=plt.cm.gray)"
      ],
      "metadata": {
        "id": "ww0y0ZTxnqlR"
      },
      "execution_count": null,
      "outputs": []
    },
    {
      "cell_type": "code",
      "source": [
        "print('Image Shape:', dataset.pixel_array.shape)\n",
        "\n",
        "print('Image Array')\n",
        "print(dataset.pixel_array)\n",
        "\n",
        "print('Min Value: ', np.min(dataset.pixel_array))\n",
        "print('Max Value: ', np.max(dataset.pixel_array))"
      ],
      "metadata": {
        "id": "hWA7PbPZqPZK"
      },
      "execution_count": null,
      "outputs": []
    },
    {
      "cell_type": "code",
      "source": [
        "# Access the pixel array from the DICOM dataset\n",
        "pixel_array = dataset.pixel_array\n",
        "\n",
        "# Plot histogram\n",
        "plt.hist(pixel_array.ravel(), bins=256)\n",
        "plt.title('Histogram of Pixel Intensities')\n",
        "plt.xlabel('Pixel Intensity')\n",
        "plt.ylabel('Frequency')\n",
        "\n",
        "plt.show()"
      ],
      "metadata": {
        "id": "ieEbfAO-vKzq"
      },
      "execution_count": null,
      "outputs": []
    },
    {
      "cell_type": "code",
      "source": [
        "import numpy as np\n",
        "\n",
        "# Access the pixel array from the DICOM dataset\n",
        "pixel_array = dataset.pixel_array\n",
        "\n",
        "min_value = -500\n",
        "max_value = 500\n",
        "\n",
        "# Adjust pixel_array values: set to min_value if less than min_value, to max_value if greater than max_value\n",
        "pixel_array = np.clip(pixel_array, min_value, max_value)\n",
        "\n",
        "# Plot histogram\n",
        "plt.hist(pixel_array.ravel(), bins=256)\n",
        "plt.title('Histogram of Pixel Intensities')\n",
        "plt.xlabel('Pixel Intensity')\n",
        "plt.ylabel('Frequency')\n",
        "\n",
        "plt.show()\n",
        "\n",
        "plt.imshow(pixel_array, cmap=plt.cm.gray)"
      ],
      "metadata": {
        "id": "9I6R59ehvYwC"
      },
      "execution_count": null,
      "outputs": []
    },
    {
      "cell_type": "code",
      "source": [
        "wl = 300\n",
        "ww = 1500\n",
        "min_value = wl - ww/2\n",
        "max_value = wl + ww/2\n",
        "\n",
        "print(min_value, max_value)"
      ],
      "metadata": {
        "id": "t6K6O5KQwY0i"
      },
      "execution_count": null,
      "outputs": []
    },
    {
      "cell_type": "code",
      "source": [
        "import numpy as np\n",
        "\n",
        "# Access the pixel array from the DICOM dataset\n",
        "pixel_array = dataset.pixel_array\n",
        "\n",
        "# min_value = -500\n",
        "# max_value = 500\n",
        "\n",
        "# Adjust pixel_array values: set to min_value if less than min_value, to max_value if greater than max_value\n",
        "pixel_array = np.clip(pixel_array, min_value, max_value)\n",
        "\n",
        "# Plot histogram\n",
        "plt.hist(pixel_array.ravel(), bins=256)\n",
        "plt.title('Histogram of Pixel Intensities')\n",
        "plt.xlabel('Pixel Intensity')\n",
        "plt.ylabel('Frequency')\n",
        "\n",
        "plt.show()\n",
        "\n",
        "plt.imshow(pixel_array, cmap=plt.cm.gray)"
      ],
      "metadata": {
        "id": "Qhwam3PUyVCZ"
      },
      "execution_count": null,
      "outputs": []
    },
    {
      "cell_type": "code",
      "source": [
        "save_to_png_filename = 'exported_image.png'\n",
        "\n",
        "import matplotlib.pyplot as plt\n",
        "\n",
        "# Assuming pixel_array is already adjusted and ready for display\n",
        "plt.imshow(pixel_array, cmap=plt.cm.gray)\n",
        "\n",
        "# Remove axes\n",
        "plt.axis('off')\n",
        "\n",
        "# Adjust figure margins to reduce the amount of whitespace\n",
        "plt.subplots_adjust(top=1, bottom=0, right=1, left=0, hspace=0, wspace=0)\n",
        "\n",
        "# Adjust the size and DPI of the resulting figure\n",
        "plt.gcf().set_size_inches(5, 5)  # Set figure size\n",
        "plt.gcf().dpi = 100  # Set DPI\n",
        "\n",
        "# Save the figure to disk, specify bbox_inches='tight' to further reduce whitespace if necessary\n",
        "plt.savefig(save_to_png_filename, bbox_inches='tight', pad_inches=0)  # Save as PNG without extra whitespace\n",
        "\n",
        "plt.show()\n"
      ],
      "metadata": {
        "id": "oSqU6KbbyZjV"
      },
      "execution_count": null,
      "outputs": []
    },
    {
      "cell_type": "code",
      "source": [
        "import pydicom\n",
        "from PIL import Image\n",
        "import numpy as np\n",
        "\n",
        "# Load the PNG image\n",
        "png_image_path = save_to_png_filename\n",
        "dicom_file_path = save_to_png_filename.replace('.png', '.dcm')\n",
        "png_image = Image.open(png_image_path).convert('L')  # Convert to grayscale ('L')\n",
        "\n",
        "# Convert the PNG image to a NumPy array\n",
        "image_array = np.array(png_image)\n",
        "\n",
        "# set a variable with full path to DICOM file\n",
        "dicom_file = \"00000070.dcm\"\n",
        "\n",
        "# read the DICOM file using the dcmread function from pydicom\n",
        "dataset = pydicom.dcmread(dicom_file)\n",
        "\n",
        "dataset.Modality = 'OT'  # 'OT' for Other\n",
        "\n",
        "dataset.Rows, dataset.Columns = image_array.shape\n",
        "#dataset.SamplesPerPixel = 1\n",
        "dataset.PixelRepresentation = 0\n",
        "#dataset.BitsStored = 8\n",
        "dataset.BitsAllocated = 8\n",
        "#dataset.HighBit = 7\n",
        "\n",
        "dataset.WindowWidth = np.max(image_array) - np.min(image_array) + 1\n",
        "dataset.WindowCenter = (np.max(image_array) - np.min(image_array) + 1) / 2\n",
        "\n",
        "# Add the image data\n",
        "dataset.PixelData = image_array.tobytes()\n",
        "\n",
        "dataset.save_as(dicom_file_path)\n",
        "\n",
        "print(f\"Saved DICOM file with embedded PNG image to {dicom_file_path}\")\n"
      ],
      "metadata": {
        "id": "90zpfyrEzEnh"
      },
      "execution_count": null,
      "outputs": []
    },
    {
      "cell_type": "code",
      "source": [
        "ds_secondary_capture = pydicom.dcmread(dicom_file_path)\n",
        "plt.imshow(ds_secondary_capture.pixel_array, cmap=plt.cm.gray)\n",
        "plt.show()\n",
        "\n",
        "ds_original = pydicom.dcmread(dicom_file)\n",
        "plt.imshow(ds_original.pixel_array, cmap=plt.cm.gray)\n",
        "plt.show()"
      ],
      "metadata": {
        "id": "Drdu2kUm0Scw"
      },
      "execution_count": null,
      "outputs": []
    },
    {
      "cell_type": "code",
      "source": [
        "plt.hist(ds_secondary_capture.pixel_array.ravel(), bins=256)\n",
        "plt.title('Histogram of Pixel Intensities for Secondary Capture')\n",
        "plt.xlabel('Pixel Intensity')\n",
        "plt.ylabel('Frequency')\n",
        "\n",
        "plt.show()\n",
        "\n",
        "plt.hist(ds_original.pixel_array.ravel(), bins=256)\n",
        "plt.title('Histogram of Pixel Intensities for Original DICOM Image')\n",
        "plt.xlabel('Pixel Intensity')\n",
        "plt.ylabel('Frequency')\n",
        "\n",
        "plt.show()"
      ],
      "metadata": {
        "id": "xiKgzUOz1hs8"
      },
      "execution_count": null,
      "outputs": []
    },
    {
      "cell_type": "markdown",
      "source": [
        "# Manipulating the Pixel Array with CV2\n",
        "\n",
        "CV2, also known as OpenCV (Open Source Computer Vision Library), is a powerful, open-source library for image processing and computer vision tasks. It's written in C++ and has bindings for Python, making it highly accessible for developers and researchers in machine learning and AI.\n",
        "\n",
        "OpenCV is renowned for its comprehensive set of tools for image manipulation, which include:\n",
        "\n",
        "- Image Transformation: Capabilities such as resizing, rotating, and cropping enable preprocessing of images to fit the requirements of machine learning models.\n",
        "- Color Space Conversion: Easy conversion between different color spaces (e.g., RGB to grayscale, BGR to HSV) is crucial for tasks where color properties are important.\n",
        "- Filtering and Edge Detection: Functions for blurring, smoothing, and edge detection allow for the enhancement or simplification of image features, aiding in the recognition and analysis of objects.\n",
        "- Feature Extraction: OpenCV provides tools for detecting and describing visual features, such as keypoints and edges, which are vital for tasks like object detection and image classification.\n",
        "- Real-Time Processing: With its efficiency and speed, CV2 is well-suited for real-time applications, such as video analysis and live object tracking.\n",
        "\n",
        "\n",
        "For machine learning practitioners, the ability to efficiently manipulate pixel arrays and apply complex transformations with just a few lines of code makes CV2 an invaluable tool. Its versatility and performance, coupled with a large community and wealth of documentation, make it a go-to library for implementing and experimenting with image-based machine learning models."
      ],
      "metadata": {
        "id": "FSUhsY1t8epX"
      }
    },
    {
      "cell_type": "code",
      "source": [
        "import cv2\n",
        "\n",
        "pixel_array = ds_original.pixel_array\n",
        "\n",
        "pixel_array = cv2.rotate(pixel_array, cv2.ROTATE_90_CLOCKWISE)\n",
        "plt.imshow(pixel_array, cmap=plt.cm.gray)"
      ],
      "metadata": {
        "id": "j758f2bK5lrS"
      },
      "execution_count": null,
      "outputs": []
    },
    {
      "cell_type": "code",
      "source": [
        "pixel_array = ds_original.pixel_array\n",
        "\n",
        "pixel_array = cv2.bitwise_not(pixel_array)\n",
        "plt.imshow(pixel_array, cmap=plt.cm.gray)"
      ],
      "metadata": {
        "id": "ZFHFOifv8Auy"
      },
      "execution_count": null,
      "outputs": []
    },
    {
      "cell_type": "markdown",
      "source": [
        "# Dealing with Volumetric 3D Images\n",
        "\n",
        "Volumetric 3D imaging, essential in sectional radiology. This complexity adds layers of challenge but also opens up advanced analysis and visualization opportunities.\n",
        "\n",
        "- Data Handling: 3D images significantly increase data volume. Efficient storage, compression, and memory management become crucial for handling large datasets effectively.\n",
        "\n",
        "- Processing and Analysis: Techniques for filtering, segmentation, and feature extraction need to account for the additional dimension, often requiring more sophisticated algorithms compared to 2D image processing.\n",
        "\n",
        "- Visualization: Visualizing 3D images can involve volume rendering techniques like ray casting or surface rendering methods such as marching cubes, providing insights into internal structures that are not visible in 2D projections.\n",
        "\n",
        "- Machine Learning and AI: Training models with 3D data can offer detailed insights for tasks like object recognition, anomaly detection, and predictive modeling. However, it demands careful consideration regarding the model architecture and computational resources.\n"
      ],
      "metadata": {
        "id": "8s1j9ZzH9wL-"
      }
    },
    {
      "cell_type": "code",
      "source": [
        "import os\n",
        "\n",
        "# List all files that match the criteria\n",
        "dicom_files = [f for f in os.listdir('.') if f.startswith('00000') and f.endswith('.dcm')]\n",
        "\n",
        "# Sort the files alphabetically\n",
        "dicom_files.sort()\n",
        "\n",
        "# Read and store all DICOM images into a list\n",
        "images = [pydicom.dcmread(os.path.join('.', f)).pixel_array for f in dicom_files]\n",
        "\n",
        "# Convert the list of images to a 3D numpy array\n",
        "image_array_3d = np.stack(images, axis=0)\n",
        "\n",
        "print(f\"Shape of the 3D image array: {image_array_3d.shape}\")"
      ],
      "metadata": {
        "id": "TzH7m5xp8-Mq"
      },
      "execution_count": null,
      "outputs": []
    },
    {
      "cell_type": "code",
      "source": [
        "import pydicom\n",
        "import numpy as np\n",
        "import matplotlib.pyplot as plt\n",
        "import glob\n",
        "\n",
        "# Assuming the use of a specific path with a wildcard for files starting with '00000' and ending in '.dcm'\n",
        "folder_path = \"00000*.dcm\"  # Update this path\n",
        "\n",
        "# Load the DICOM files that start with '00000' and end with '.dcm'\n",
        "files = []\n",
        "for fname in glob.glob(folder_path, recursive=False):\n",
        "    if fname.endswith('.dcm') and fname.split('/')[-1].startswith('00000'):\n",
        "        files.append(pydicom.dcmread(fname))\n",
        "\n",
        "print(\"file count: {}\".format(len(files)))\n",
        "\n",
        "# Filter out files without SliceLocation and sort the rest\n",
        "slices = [f for f in files if hasattr(f, 'SliceLocation')]\n",
        "slices.sort(key=lambda x: x.SliceLocation)\n",
        "\n",
        "# Assuming all slices have the same pixel spacing and slice thickness\n",
        "ps = slices[0].PixelSpacing\n",
        "ss = slices[0].SliceThickness\n",
        "ax_aspect = ps[1] / ps[0]\n",
        "sag_aspect = ss / ps[0]\n",
        "cor_aspect = ss / ps[0]\n",
        "\n",
        "# Create a 3D array from the slices\n",
        "img_shape = list(slices[0].pixel_array.shape) + [len(slices)]\n",
        "img3d = np.zeros(img_shape)\n",
        "for i, s in enumerate(slices):\n",
        "    img3d[:, :, i] = s.pixel_array\n",
        "\n",
        "# Extract the central slices for each plane\n",
        "central_axial = img3d[:, :, img_shape[2]//2]\n",
        "central_sagittal = img3d[:, img_shape[1]//2, :]\n",
        "central_coronal = img3d[img_shape[0]//2, :, :]\n",
        "\n",
        "# Show the central slices with a 1x3 subplot layout\n",
        "fig, axs = plt.subplots(1, 3, figsize=(15, 5))\n",
        "\n",
        "# Display each slice in its respective subplot with correct aspect ratios\n",
        "axs[0].imshow(central_axial, cmap=plt.cm.gray)\n",
        "axs[0].set_title('Central Axial Slice')\n",
        "axs[0].axis('off')\n",
        "axs[0].set_aspect(ax_aspect)\n",
        "\n",
        "axs[1].imshow(central_sagittal.T, cmap=plt.cm.gray)  # Transpose for correct orientation\n",
        "axs[1].set_title('Central Sagittal Slice')\n",
        "axs[1].axis('off')\n",
        "axs[1].set_aspect(sag_aspect)\n",
        "\n",
        "axs[2].imshow(central_coronal.T, cmap=plt.cm.gray)  # Transpose for correct orientation\n",
        "axs[2].set_title('Central Coronal Slice')\n",
        "axs[2].axis('off')\n",
        "axs[2].set_aspect(cor_aspect)\n",
        "\n",
        "plt.show()\n"
      ],
      "metadata": {
        "id": "4hllvXVg_4Mi"
      },
      "execution_count": null,
      "outputs": []
    },
    {
      "cell_type": "code",
      "source": [
        "def show_dicom_image(scroll, window_level, window_width, zoom, predefined_window, save_to_file):\n",
        "    if predefined_window == 'lung':\n",
        "        window_level = -600\n",
        "        window_width = 1500\n",
        "    elif predefined_window == 'mediastinum':\n",
        "        window_level = 50\n",
        "        window_width = 350\n",
        "    elif predefined_window == 'bone':\n",
        "        window_level = 400\n",
        "        window_width = 1800\n",
        "\n",
        "    vmin = window_level - (window_width / 2)\n",
        "    vmax = window_level + (window_width / 2)\n",
        "\n",
        "    plt.figure(figsize=(zoom, zoom))\n",
        "    plt.axis('off')\n",
        "    img_pixel_array = img3d[:, :, scroll-1]  # Accessing the slice directly from the 3D array\n",
        "\n",
        "    plt.imshow(img_pixel_array, vmin=vmin, vmax=vmax, cmap='gray')\n",
        "    plt.show()\n",
        "\n",
        "    if save_to_file:\n",
        "        jpeg_file = f'slice_{scroll}.jpg'  # Since we don't have the DICOM filename, using a generic naming scheme\n",
        "        plt.savefig(jpeg_file)\n",
        "        print(f'Saved to file: {jpeg_file}')\n",
        "\n",
        "    print(f\"Slice: {scroll} WL: {window_level} WW: {window_width} Zoom: {zoom}\")\n",
        "\n"
      ],
      "metadata": {
        "id": "sUzGFKayBddq"
      },
      "execution_count": null,
      "outputs": []
    },
    {
      "cell_type": "code",
      "source": [
        "#@title Loading the Python DICOM Viewer { vertical-output: true, display-mode: \"form\" }\n",
        "\n",
        "import ipywidgets as widgets\n",
        "from IPython.display import display\n",
        "from ipywidgets import interact\n",
        "\n",
        "# Assuming `img3d` is your 3D numpy array from earlier\n",
        "total_images = img3d.shape[2]  # The number of slices in the third dimension\n",
        "\n",
        "# Code for the widget setup remains mostly unchanged\n",
        "# Just ensure that the max value for the `scroll` widget is set to `total_images`\n",
        "scroll = widgets.IntSlider(value=54, min=1, max=total_images, step=1, description='Scroll:', continuous_update=True,\n",
        "    orientation='horizontal', readout=True, readout_format='d')\n",
        "window_level = widgets.IntSlider(value=-600, min=-1000, max=1000, step=1, description='Window Level:', continuous_update=True,\n",
        "    orientation='horizontal', readout=True, readout_format='d')\n",
        "window_width = widgets.IntSlider(value=1500, min=0, max=2000, step=1, description='Window Width:', continuous_update=True,\n",
        "    orientation='horizontal', readout=True, readout_format='d')\n",
        "zoom = widgets.IntSlider(value=10, min=1, max=10, step=1, description='Zoom:', continuous_update=True,\n",
        "    orientation='horizontal', readout=True, readout_format='d')\n",
        "predefined_window = [\"custom\", \"lung\", \"mediastinum\", \"bone\"]\n",
        "save_to_file = False\n",
        "\n",
        "# interactively calls the show_dicom_image function\n",
        "_ = interact(show_dicom_image, scroll=scroll, window_level=window_level, window_width=window_width, zoom=zoom, predefined_window=predefined_window, save_to_file=save_to_file)"
      ],
      "metadata": {
        "id": "1tyDrplWD486"
      },
      "execution_count": null,
      "outputs": []
    },
    {
      "cell_type": "code",
      "source": [
        "def show_dicom_image(orientation, scroll, window_level, window_width, zoom, predefined_window, save_to_file):\n",
        "    if predefined_window == 'lung':\n",
        "        window_level = -600\n",
        "        window_width = 1500\n",
        "    elif predefined_window == 'mediastinum':\n",
        "        window_level = 50\n",
        "        window_width = 350\n",
        "    elif predefined_window == 'bone':\n",
        "        window_level = 400\n",
        "        window_width = 1800\n",
        "\n",
        "    vmin = window_level - (window_width / 2)\n",
        "    vmax = window_level + (window_width / 2)\n",
        "\n",
        "    # Adjust slice selection based on the orientation\n",
        "    if orientation == 'Axial':\n",
        "        img_pixel_array = img3d[:, :, scroll-1]\n",
        "    elif orientation == 'Sagittal':\n",
        "        img_pixel_array = img3d[:, scroll-1, :].T  # Transpose for correct display\n",
        "    elif orientation == 'Coronal':\n",
        "        img_pixel_array = img3d[scroll-1, :, :].T  # Transpose for correct display\n",
        "\n",
        "    plt.figure(figsize=(zoom, zoom))\n",
        "    plt.axis('off')\n",
        "    plt.imshow(img_pixel_array, vmin=vmin, vmax=vmax, cmap='gray')\n",
        "    plt.show()\n",
        "\n",
        "    if save_to_file:\n",
        "        jpeg_file = f'{orientation.lower()}_slice_{scroll}.jpg'  # Include orientation in the file name\n",
        "        plt.savefig(jpeg_file)\n",
        "        print(f'Saved to file: {jpeg_file}')\n",
        "\n",
        "    print(f\"Orientation: {orientation} Slice: {scroll} WL: {window_level} WW: {window_width} Zoom: {zoom}\")\n"
      ],
      "metadata": {
        "id": "9gMGYC38ECVg"
      },
      "execution_count": null,
      "outputs": []
    },
    {
      "cell_type": "code",
      "source": [
        "def show_dicom_image(orientation, scroll, window_level, window_width, zoom, predefined_window, save_to_file):\n",
        "    if predefined_window == 'lung':\n",
        "        window_level = -600\n",
        "        window_width = 1500\n",
        "    elif predefined_window == 'mediastinum':\n",
        "        window_level = 50\n",
        "        window_width = 350\n",
        "    elif predefined_window == 'bone':\n",
        "        window_level = 400\n",
        "        window_width = 1800\n",
        "\n",
        "    vmin = window_level - (window_width / 2)\n",
        "    vmax = window_level + (window_width / 2)\n",
        "\n",
        "    fig, ax = plt.subplots(figsize=(zoom, zoom))\n",
        "    plt.axis('off')\n",
        "\n",
        "    # Adjust slice selection based on the orientation\n",
        "    if orientation == 'Axial':\n",
        "        img_pixel_array = img3d[:, :, scroll-1]\n",
        "        aspect_ratio = ps[1] / ps[0]\n",
        "    elif orientation == 'Sagittal':\n",
        "        img_pixel_array = img3d[:, scroll-1, :].T  # Transpose for correct display\n",
        "        aspect_ratio = ss / ps[0]  # Correct aspect ratio for sagittal\n",
        "    elif orientation == 'Coronal':\n",
        "        img_pixel_array = img3d[scroll-1, :, :].T  # Transpose for correct display\n",
        "        aspect_ratio = ss / ps[1]  # Correct aspect ratio for coronal\n",
        "\n",
        "    ax.imshow(img_pixel_array, vmin=vmin, vmax=vmax, cmap='gray', aspect=aspect_ratio)\n",
        "\n",
        "    if save_to_file:\n",
        "        jpeg_file = 'exported_from_dicom_viewer.jpg'  # Consider including orientation in the file name dynamically\n",
        "        plt.savefig(jpeg_file)\n",
        "        print(f'Saved to file: {jpeg_file}')\n",
        "\n",
        "    # Display the figure last to avoid clearing it before saving\n",
        "    plt.show()\n",
        "\n",
        "    print(f\"Orientation: {orientation} Slice: {scroll} WL: {window_level} WW: {window_width} Zoom: {zoom}\")\n"
      ],
      "metadata": {
        "id": "77ZyfI02F_dw"
      },
      "execution_count": null,
      "outputs": []
    },
    {
      "cell_type": "code",
      "source": [
        "import ipywidgets as widgets\n",
        "from IPython.display import display\n",
        "from ipywidgets import interact, interactive\n",
        "\n",
        "# Function to update the scroll slider's maximum and reset its value\n",
        "def update_scroll_range(*args):\n",
        "    if orientation.value == 'Axial':\n",
        "        total_images = img3d.shape[2]  # The number of slices in the z-axis for Axial\n",
        "    elif orientation.value == 'Sagittal':\n",
        "        total_images = img3d.shape[1]  # The number of slices in the y-axis for Sagittal\n",
        "    elif orientation.value == 'Coronal':\n",
        "        total_images = img3d.shape[0]  # The number of slices in the x-axis for Coronal\n",
        "    scroll.max = total_images\n",
        "    scroll.value = total_images // 2  # Reset to the middle slice\n",
        "\n",
        "# Assuming `img3d` is your 3D numpy array\n",
        "# Orientation widget\n",
        "orientation = widgets.Dropdown(\n",
        "    options=['Axial', 'Sagittal', 'Coronal'],\n",
        "    value='Axial',\n",
        "    description='Orientation:',\n",
        ")\n",
        "\n",
        "# Initial total_images set for Axial orientation by default\n",
        "total_images = img3d.shape[2]\n",
        "\n",
        "# Scroll widget, initially set up for the Axial view\n",
        "scroll = widgets.IntSlider(min=1, max=total_images, step=1, value=total_images // 2, description='Scroll:')\n",
        "\n",
        "# Attach the update function to orientation changes\n",
        "orientation.observe(update_scroll_range, 'value')\n",
        "\n",
        "# Define other widgets for window level, window width, and zoom\n",
        "window_level = widgets.IntSlider(value=-600, min=-1000, max=1000, step=1, description='Window Level:')\n",
        "window_width = widgets.IntSlider(value=1500, min=0, max=2000, step=1, description='Window Width:')\n",
        "zoom = widgets.IntSlider(value=3, min=1, max=10, step=1, description='Zoom:')\n",
        "\n",
        "predefined_window = widgets.Dropdown(options=[\"custom\", \"lung\", \"mediastinum\", \"bone\"], description='Window Preset:')\n",
        "save_to_file = widgets.Checkbox(value=False, description='Save to File?')\n",
        "\n",
        "# Setup the interactive viewer with all the controls\n",
        "ui = interactive(show_dicom_image, orientation=orientation, scroll=scroll, window_level=window_level,\n",
        "                 window_width=window_width, zoom=zoom, predefined_window=predefined_window, save_to_file=save_to_file)\n",
        "\n",
        "display(ui)\n"
      ],
      "metadata": {
        "id": "Qogt4fCAE8ly"
      },
      "execution_count": null,
      "outputs": []
    },
    {
      "cell_type": "code",
      "source": [
        "question = \"I am a radiologist. This is a 64-year-old female patient with high fever, cough, and dyspnea. Describe what you see, the possible diagnosis, and how to treat her.\""
      ],
      "metadata": {
        "id": "ODpVxWTFHQeb"
      },
      "execution_count": null,
      "outputs": []
    },
    {
      "cell_type": "code",
      "source": [
        "import base64\n",
        "import requests\n",
        "\n",
        "# OpenAI API Key\n",
        "api_key = \"\"\n",
        "\n",
        "# Function to encode the image\n",
        "def encode_image(image_path):\n",
        "  with open(image_path, \"rb\") as image_file:\n",
        "    return base64.b64encode(image_file.read()).decode('utf-8')\n",
        "\n",
        "# Path to your image\n",
        "image_path = \"exported_from_dicom_viewer.jpg\"\n",
        "\n",
        "# Getting the base64 string\n",
        "base64_image = encode_image(image_path)\n",
        "\n",
        "headers = {\"Content-Type\": \"application/json\", \"Authorization\": f\"Bearer {api_key}\"}\n",
        "\n",
        "payload = {\n",
        "    \"model\": \"gpt-4-vision-preview\",\n",
        "    \"messages\": [\n",
        "    {\n",
        "      \"role\": \"user\",\n",
        "      \"content\": [\n",
        "        {\"type\": \"text\", \"text\": f\"{question}\"},\n",
        "        {\"type\": \"image_url\", \"image_url\": {\"url\": f\"data:image/jpeg;base64,{base64_image}\"}}\n",
        "      ]\n",
        "    }\n",
        "  ],\n",
        "  \"max_tokens\": 300\n",
        "}\n",
        "\n",
        "response = requests.post(\"https://api.openai.com/v1/chat/completions\", headers=headers, json=payload)\n",
        "\n",
        "print(response.json())\n",
        "\n",
        "print(response.json().get('choices')[0].get('message').get('content'))"
      ],
      "metadata": {
        "id": "LYWP0idQFUcf"
      },
      "execution_count": null,
      "outputs": []
    },
    {
      "cell_type": "code",
      "source": [
        "print(response.json().get('choices')[0].get('message').get('content'))"
      ],
      "metadata": {
        "id": "T6WX1sz6H3cp"
      },
      "execution_count": null,
      "outputs": []
    },
    {
      "cell_type": "code",
      "source": [],
      "metadata": {
        "id": "-MSI8F4IKQv4"
      },
      "execution_count": null,
      "outputs": []
    }
  ]
}