{
  "nbformat": 4,
  "nbformat_minor": 0,
  "metadata": {
    "colab": {
      "private_outputs": true,
      "provenance": [],
      "authorship_tag": "ABX9TyOxER9c5U1XzIQaIINb59lC",
      "include_colab_link": true
    },
    "kernelspec": {
      "name": "python3",
      "display_name": "Python 3"
    },
    "language_info": {
      "name": "python"
    }
  },
  "cells": [
    {
      "cell_type": "markdown",
      "metadata": {
        "id": "view-in-github",
        "colab_type": "text"
      },
      "source": [
        "<a href=\"https://colab.research.google.com/github/paulokuriki/python-for-dicom/blob/main/Python_For_Dicom.ipynb\" target=\"_parent\"><img src=\"https://colab.research.google.com/assets/colab-badge.svg\" alt=\"Open In Colab\"/></a>"
      ]
    },
    {
      "cell_type": "markdown",
      "source": [
        "# Python for DICOM\n",
        "\n",
        "## From Zero to Hero\n",
        "\n",
        "\n",
        "![logo hero 400.jpg](https://raw.githubusercontent.com/paulokuriki/python-for-dicom/main/logo%20hero%20400.jpg?token=GHSAT0AAAAAACO2ZBLN4AXKSXWZ42GZ65RSZPQ5EFA)\n"
      ],
      "metadata": {
        "id": "00FE3_kaBEgY"
      }
    },
    {
      "cell_type": "markdown",
      "source": [
        "---"
      ],
      "metadata": {
        "id": "-pOfmxwAIXI-"
      }
    },
    {
      "cell_type": "markdown",
      "source": [
        "# **Why to Learn Python?**\n",
        "\n",
        "1.   It is a simple to learn Program Language\n",
        "\n",
        "2.   One of the main languages used in AI Projects\n",
        "\n",
        "3.   Many libraries ready to use in radiology\n",
        "\n",
        "4.   Open Source\n",
        "\n",
        "5.   Portability: Can run in Windows, Mac or Linux enviroments\n",
        "\n",
        "6.   **Allows you to create your own DICOM VIEWER (bonus)**"
      ],
      "metadata": {
        "id": "R4LN1OAuIAaY"
      }
    },
    {
      "cell_type": "markdown",
      "source": [
        "---"
      ],
      "metadata": {
        "id": "0yPQsaHeIYKt"
      }
    },
    {
      "cell_type": "markdown",
      "source": [
        "# **How to start?**\n",
        "\n",
        "*   Programm directly on the web at **Google Colab** - [colab.research.google.com](https://colab.research.google.com/)\n",
        "*   Run in a **Jupyter Notebook** - [anaconda.com](https://www.anaconda.com/products/individual)\n",
        "*   Run **Python** in your local machine - [python.org](https://www.python.org/downloads/)\n"
      ],
      "metadata": {
        "id": "K8RbU8rPISpc"
      }
    },
    {
      "cell_type": "markdown",
      "source": [
        "---"
      ],
      "metadata": {
        "id": "JfVl0jROIqOp"
      }
    },
    {
      "cell_type": "markdown",
      "source": [
        "# **Let's code!**\n",
        "\n",
        "### The print  **`print()`** shows some information at the screen:\n",
        "\n",
        "Example: **`print(100)`**"
      ],
      "metadata": {
        "id": "c5n-yGSjIsCK"
      }
    },
    {
      "cell_type": "code",
      "execution_count": null,
      "metadata": {
        "id": "izJo1vTwAktL"
      },
      "outputs": [],
      "source": [
        "# calling the print() function passing the number 100 as a parameter\n",
        "print(2024)"
      ]
    },
    {
      "cell_type": "code",
      "source": [
        "# passing a mathematical operation to the print() function\n",
        "print(100 / 200)"
      ],
      "metadata": {
        "id": "D3ucN8k6I26U"
      },
      "execution_count": null,
      "outputs": []
    },
    {
      "cell_type": "markdown",
      "source": [
        "---"
      ],
      "metadata": {
        "id": "P8rw28BMJAwX"
      }
    },
    {
      "cell_type": "markdown",
      "source": [
        "# **Variables and Data Types**\n",
        "\n",
        "### A **Variable** is an space in computer's memory, which has a name and storages a value.\n",
        "\n",
        "Example:\n",
        "\n",
        "`year = 2021`\n",
        "\n",
        "`height = 176`\n",
        "\n",
        "### In **Python** `year` e `Year` are considered differente variables. This is why it's advisable to always name variables in  *lowercase*.\n",
        "\n",
        "Values stored in variavles have some types. Some examples:\n",
        "\n",
        "- Text: string\n",
        "- Number: integer, float, complex\n",
        "- Sequences: list, tuple\n",
        "- Mapping: dict"
      ],
      "metadata": {
        "id": "tZat_CqHI_FI"
      }
    },
    {
      "cell_type": "code",
      "source": [
        "# assigning numeric values ​​to variables\n",
        "year = 2020\n",
        "year_birth = 1990\n",
        "age = year - year_birth\n",
        "\n",
        "# displays calculated age\n",
        "print(age)"
      ],
      "metadata": {
        "id": "pan8D3IBI7ls"
      },
      "execution_count": null,
      "outputs": []
    },
    {
      "cell_type": "code",
      "source": [
        "# assigning texts to variables\n",
        "name = \"Paulo\"\n",
        "surname = 'Kuriki'\n",
        "full_name = name + surname\n",
        "\n",
        "print(full_name)\n",
        "# If the full name appeared out of spaces, how would you solve this problem?"
      ],
      "metadata": {
        "id": "QJy55BqHJG58"
      },
      "execution_count": null,
      "outputs": []
    },
    {
      "cell_type": "markdown",
      "source": [
        "---"
      ],
      "metadata": {
        "id": "Ai5j737jJp5m"
      }
    },
    {
      "cell_type": "markdown",
      "source": [
        "# **Conditional clauses**\n",
        "\n",
        "Through the `if` statement, it is possible to define conditions.\n",
        "\n",
        "Example:\n",
        "\n",
        "`if condition:`\n",
        "\n",
        "> `performs positive tasks`\n",
        "\n",
        "> `performs positive tasks`\n",
        "\n",
        "> `performs positive tasks`\n",
        "\n",
        "`else:`\n",
        "\n",
        "> `performs negative tasks`\n",
        "\n",
        "> `performs negative tasks`\n",
        "\n",
        "> `performs negative tasks`\n",
        "\n",
        "**Python** groups each conditional blocks by indentation."
      ],
      "metadata": {
        "id": "x7isgVgRJjH3"
      }
    },
    {
      "cell_type": "code",
      "source": [
        "year = 2020\n",
        "birth_year = 2000\n",
        "age = year - birth_year\n",
        "\n",
        "# assesses if you are of legal age\n",
        "if age >= 21:\n",
        "    print(age, \"You are of legal age. You can buy beer.\")\n",
        "else:\n",
        "    print(age, \"You're underage. Go drink some milk.\")\n",
        "\n",
        "# try to change birth date and run again"
      ],
      "metadata": {
        "id": "lQGollALJnQY"
      },
      "execution_count": null,
      "outputs": []
    },
    {
      "cell_type": "markdown",
      "source": [
        "---"
      ],
      "metadata": {
        "id": "gojZ8UD-JnAo"
      }
    },
    {
      "cell_type": "markdown",
      "source": [
        "# **Sequences**\n",
        "\n",
        "Sequences are sets of data that can be grouped.\n",
        "\n",
        "There are several types of sequences, such as:\n",
        "* `lists`\n",
        "* `tuples`\n",
        "* `sets`\n",
        "* `dictionaries`"
      ],
      "metadata": {
        "id": "TRNk1CTbJU_Y"
      }
    },
    {
      "cell_type": "markdown",
      "source": [
        "----"
      ],
      "metadata": {
        "id": "9mpOu80OJthf"
      }
    },
    {
      "cell_type": "markdown",
      "source": [
        "# **Loops**\n",
        "\n",
        "Loops are used to repeat certain actions. The main types of loops in Python are `for` and `while`\n",
        "\n",
        "`for`: Used to iterate through a sequence, such as a `list`.\n",
        "\n",
        "`while`: Loops while a condition is met."
      ],
      "metadata": {
        "id": "iAJLf34NJZcU"
      }
    },
    {
      "cell_type": "code",
      "source": [
        "# ---- Using FOR to iterate through a list ----\n",
        "\n",
        "# creates a list of exam types\n",
        "exams = [\"Brain MRI\", \"C-Spine MRI\", \"T-Spine MRI\", \"L-Spine MRI\"]\n",
        "\n",
        "# FOR loop performing an iteration over the exam list\n",
        "for exam in exams:\n",
        "    print(\"I read:\", exam)"
      ],
      "metadata": {
        "id": "kwE-2g5mJJkC"
      },
      "execution_count": null,
      "outputs": []
    },
    {
      "cell_type": "markdown",
      "source": [
        "# Preparing the environment"
      ],
      "metadata": {
        "id": "jnVPLI3nJzbo"
      }
    },
    {
      "cell_type": "code",
      "source": [
        "#@title Prepare the test enviroment { vertical-output: true, display-mode: \"form\" }\n",
        "!pip install pydicom\n",
        "!pip install ipywidgets\n",
        "\n",
        "import platform\n",
        "\n",
        "if platform.system() == 'Windows':\n",
        "    !del *.dcm\n",
        "    !del *.jpg\n",
        "\n",
        "    # it can be necessary to download  wget.exe for windows from the site: https://eternallybored.org/misc/wget/1.20.3/64/wget.exe\n",
        "    !wget https://github.com/paulokuriki/python_for_rads/raw/master/torax.zip\n",
        "    !tar -xf torax.zip\n",
        "else:\n",
        "    !rm *.dcm\n",
        "    !rm *.jpg\n",
        "    !wget https://github.com/paulokuriki/python_for_rads/raw/master/torax.zip\n",
        "    !unzip torax.zip\n",
        "print('\\n\\n----- TEST ENVIROMENT PREPARED. -----')"
      ],
      "metadata": {
        "id": "CJzXTQovJcC9"
      },
      "execution_count": null,
      "outputs": []
    },
    {
      "cell_type": "markdown",
      "source": [
        "---"
      ],
      "metadata": {
        "id": "UcjJMO0jJ-Mf"
      }
    },
    {
      "cell_type": "markdown",
      "source": [
        "# **The So-Called Python Libraries**\n",
        "\n",
        "A Python library is a collection of functions and methods that allows you to perform many actions without writing your code from scratch. They are one of the reasons why Python is so popular, offering a vast ecosystem that can be leveraged for a wide array of applications, from web development to data analysis, and machine learning.\n",
        "\n",
        "## Why They Are Awesome\n",
        "- Saves Time and Effort: Libraries contain pre-written code that solves common problems\n",
        "- Increases Productivity: complex tasks can be accomplished in few lines of code\n",
        "- Improves Code Quality: Libraries are usually developed by a community of experts and undergo rigorous testing\n",
        "- Versatility: There's a library for almost everything – dealing with medical images (PyDicom), web scraping (Beautiful Soup) to machine learning (TensorFlow, scikit-learn), making Python extremely versatile.\n",
        "\n",
        "## What Kind of Things We Can Do\n",
        "- Web Development: Streamlit, Django and Flask\n",
        "- Data Analysis and Visualization: Pandas for data manipulation, NumPy for numerical data processing, and Matplotlib for data visualization.\n",
        "- Machine Learning and AI: TensorFlow, PyTorch, and scikit-learn\n",
        "- Game Development: Pygame\n",
        "- Automation and Scripting:  Selenium for web browserand PyAutoGUI for controlling the keyboard and mouse\n"
      ],
      "metadata": {
        "id": "YYigZFx9J_Yy"
      }
    },
    {
      "cell_type": "markdown",
      "source": [
        "---"
      ],
      "metadata": {
        "id": "4TfzNyFSMTZI"
      }
    },
    {
      "cell_type": "markdown",
      "source": [
        "# **DICOM files in Python**\n",
        "\n",
        "Python has two excelente libraries for handling DICOM files and transmissions\n",
        "\n",
        "`pydicom`: Used to open DICOM files, read metadata and images, and save exams.\n",
        "\n",
        "`pynetdicom`: Used to query PACS and transmit DICOM files"
      ],
      "metadata": {
        "id": "K-cnS4JnKFm1"
      }
    },
    {
      "cell_type": "markdown",
      "source": [
        "---"
      ],
      "metadata": {
        "id": "jxxQvliaMyN_"
      }
    },
    {
      "cell_type": "markdown",
      "source": [
        "# **Displaying DICOM images**\n",
        "\n",
        "1. Import the `pydicom` and `matplotlib` libraries.\n",
        "2. Open the DICOM file using the `pydicom.dcmread(filename)` function.\n",
        "3. The image array can be accessed by the `pixel_array` property.\n",
        "4. Load the DICOM `pixel_array` into the `pyplot` module of the `matplotlib` library.\n",
        "5. Display the image using the `show()` function."
      ],
      "metadata": {
        "id": "LfffKK5qKSO4"
      }
    },
    {
      "cell_type": "code",
      "source": [
        "import pydicom\n",
        "from matplotlib import pyplot\n",
        "\n",
        "# set a variable with full path to DICOM file\n",
        "var_dicom_file = \"00000070.dcm\"\n",
        "\n",
        "# read the DICOM file using the dcmread function\n",
        "dataset = pydicom.dcmread(var_dicom_file)\n",
        "\n",
        "# load image pixel_array into pyplot and display image\n",
        "pyplot.imshow(dataset.pixel_array, cmap=pyplot.cm.gray)\n",
        "pyplot.show()"
      ],
      "metadata": {
        "id": "Nb41JPfpJ3Ib"
      },
      "execution_count": null,
      "outputs": []
    },
    {
      "cell_type": "code",
      "source": [],
      "metadata": {
        "id": "4mmU_VRLKXkT"
      },
      "execution_count": null,
      "outputs": []
    }
  ]
}